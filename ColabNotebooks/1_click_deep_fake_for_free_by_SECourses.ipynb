{
  "cells": [
    {
      "attachments": {},
      "cell_type": "markdown",
      "metadata": {
        "id": "G9BdiCppV6AS"
      },
      "source": [
        "# Video tutorial link > https://youtu.be/OI1LEN-SgLM\n",
        "## SECourse : https://www.youtube.com/SECourses\n",
        "## GitHub instructions : https://github.com/FurkanGozukara/Stable-Diffusion/blob/main/Tutorials/1-Click-DeepFake-Tutorial.md"
      ]
    },
    {
      "attachments": {},
      "cell_type": "markdown",
      "metadata": {
        "id": "ni6edG-8MUNg"
      },
      "source": [
        "**If you want to use the latest version remove `!git checkout e4f1d9aaff43549667f7c81c6f48a86606fb9b95`**"
      ]
    },
    {
      "cell_type": "code",
      "execution_count": null,
      "metadata": {
        "colab": {
          "base_uri": "https://localhost:8080/"
        },
        "id": "jPEJ4czfYnkE",
        "outputId": "3a7c97b5-5405-4dbc-c018-5c9ea6d04b8b"
      },
      "outputs": [],
      "source": [
        "! /opt/bin/nvidia-smi"
      ]
    },
    {
      "cell_type": "code",
      "execution_count": null,
      "metadata": {
        "colab": {
          "base_uri": "https://localhost:8080/"
        },
        "id": "xTjLsik5YyMn",
        "outputId": "f4ca1abd-bf61-4646-e48a-907b568da7d6"
      },
      "outputs": [],
      "source": [
        "from google.colab import drive\n",
        "drive.mount('/content/drive')"
      ]
    },
    {
      "cell_type": "code",
      "execution_count": null,
      "metadata": {
        "colab": {
          "base_uri": "https://localhost:8080/",
          "height": 1000
        },
        "id": "t1yPuhdySqCq",
        "outputId": "1241cc46-619e-4630-f44d-5dc2644b58e7"
      },
      "outputs": [],
      "source": [
        "!git clone https://github.com/s0md3v/roop\n",
        "%cd roop\n",
        "#latest commit not working right now 11:20 PM (UTC+3) 2 June. So we are using older commit. But you can comment below git checkout to test latest commit\n",
        "!git checkout e4f1d9aaff43549667f7c81c6f48a86606fb9b95 \n",
        "!pip install onnxruntime-gpu && pip install -r requirements.txt\n",
        "!wget https://huggingface.co/MonsterMMORPG/SECourses/resolve/main/inswapper_128.onnx"
      ]
    },
    {
      "attachments": {},
      "cell_type": "markdown",
      "metadata": {
        "id": "Jul-_i9xMmV2"
      },
      "source": [
        "**...... means it is working and processing**"
      ]
    },
    {
      "cell_type": "code",
      "execution_count": null,
      "metadata": {
        "colab": {
          "base_uri": "https://localhost:8080/"
        },
        "id": "sf61yCeWX-j0",
        "outputId": "1eff98ca-3b3f-4cf1-e60e-4ec50c41bf3b"
      },
      "outputs": [],
      "source": []
    },
    {
      "cell_type": "code",
      "execution_count": null,
      "metadata": {
        "colab": {
          "base_uri": "https://localhost:8080/"
        },
        "id": "Is6U2huqSzLE",
        "outputId": "3c577ab9-5075-45ed-d1be-d2edd3b94801"
      },
      "outputs": [],
      "source": [
        "!python run.py -f /content/drive/MyDrive/deepfake/sunyanzi.png -t /content/drive/MyDrive/deepfake/wf.mp4 -o /content/drive/MyDrive/deepfake/output2.mp4 --keep-frames --keep-fps --gpu"
      ]
    },
    {
      "cell_type": "code",
      "execution_count": 6,
      "metadata": {
        "colab": {
          "base_uri": "https://localhost:8080/",
          "height": 34
        },
        "id": "oYjWveAmw10X",
        "outputId": "6a49b0ab-4821-4129-c72d-3a2b02745641"
      },
      "outputs": [
        {
          "data": {
            "application/javascript": "\n    async function download(id, filename, size) {\n      if (!google.colab.kernel.accessAllowed) {\n        return;\n      }\n      const div = document.createElement('div');\n      const label = document.createElement('label');\n      label.textContent = `Downloading \"${filename}\": `;\n      div.appendChild(label);\n      const progress = document.createElement('progress');\n      progress.max = size;\n      div.appendChild(progress);\n      document.body.appendChild(div);\n\n      const buffers = [];\n      let downloaded = 0;\n\n      const channel = await google.colab.kernel.comms.open(id);\n      // Send a message to notify the kernel that we're ready.\n      channel.send({})\n\n      for await (const message of channel.messages) {\n        // Send a message to notify the kernel that we're ready.\n        channel.send({})\n        if (message.buffers) {\n          for (const buffer of message.buffers) {\n            buffers.push(buffer);\n            downloaded += buffer.byteLength;\n            progress.value = downloaded;\n          }\n        }\n      }\n      const blob = new Blob(buffers, {type: 'application/binary'});\n      const a = document.createElement('a');\n      a.href = window.URL.createObjectURL(blob);\n      a.download = filename;\n      div.appendChild(a);\n      a.click();\n      div.remove();\n    }\n  ",
            "text/plain": [
              "<IPython.core.display.Javascript object>"
            ]
          },
          "metadata": {},
          "output_type": "display_data"
        },
        {
          "data": {
            "application/javascript": "download(\"download_459ad2a4-142d-4edf-bee4-8f0ad3ecfc65\", \"ruyuan.zip.zip\", 1767322820)",
            "text/plain": [
              "<IPython.core.display.Javascript object>"
            ]
          },
          "metadata": {},
          "output_type": "display_data"
        }
      ],
      "source": [
        "import shutil\n",
        "import os\n",
        "from google.colab import files\n",
        "\n",
        "def zip_directory(directory_path, zip_path):\n",
        "    shutil.make_archive(zip_path, 'zip', directory_path)\n",
        "\n",
        "# Set the directory path you want to download\n",
        "directory_path = '/content/drive/MyDrive/deepfake/ruyuan'\n",
        "\n",
        "# Set the zip file name\n",
        "zip_filename = 'ruyuan'\n",
        "\n",
        "# Zip the directory\n",
        "zip_directory(directory_path, zip_filename)\n",
        "\n",
        "# Download the zip file\n",
        "files.download(zip_filename+'.zip')\n"
      ]
    }
  ],
  "metadata": {
    "accelerator": "GPU",
    "colab": {
      "gpuType": "T4",
      "provenance": []
    },
    "kernelspec": {
      "display_name": "Python 3",
      "name": "python3"
    },
    "language_info": {
      "name": "python"
    }
  },
  "nbformat": 4,
  "nbformat_minor": 0
}
